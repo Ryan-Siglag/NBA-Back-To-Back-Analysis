{
  "nbformat": 4,
  "nbformat_minor": 0,
  "metadata": {
    "colab": {
      "provenance": [],
      "mount_file_id": "1yOAL65DgXtgCmfE3qlGsGjXMgTWvv_hm",
      "authorship_tag": "ABX9TyOzYnRmMkdDs3yyLibRZdwZ",
      "include_colab_link": true
    },
    "kernelspec": {
      "name": "python3",
      "display_name": "Python 3"
    },
    "language_info": {
      "name": "python"
    }
  },
  "cells": [
    {
      "cell_type": "markdown",
      "metadata": {
        "id": "view-in-github",
        "colab_type": "text"
      },
      "source": [
        "<a href=\"https://colab.research.google.com/github/Ryan-Siglag/NBA-Back-To-Back-Analysis/blob/main/NBA_B2B.ipynb\" target=\"_parent\"><img src=\"https://colab.research.google.com/assets/colab-badge.svg\" alt=\"Open In Colab\"/></a>"
      ]
    },
    {
      "cell_type": "markdown",
      "source": [
        "**Database set up**"
      ],
      "metadata": {
        "id": "n4g6n7U8rj8A"
      }
    },
    {
      "cell_type": "code",
      "execution_count": 22,
      "metadata": {
        "id": "0lXgC9BPj0FS",
        "outputId": "7b6c6a5d-ccfd-48a4-bcfd-1713929851ae",
        "colab": {
          "base_uri": "https://localhost:8080/",
          "height": 392
        }
      },
      "outputs": [
        {
          "output_type": "execute_result",
          "data": {
            "text/plain": [
              "          Player   Tm  Opp Res     MP  FG  FGA    FG%  3P  3PA  ...  DRB  TRB  \\\n",
              "0   Jayson Tatum  BOS  NYK   W  30.30  14   18  0.778   8   11  ...    4    4   \n",
              "1  Anthony Davis  LAL  MIN   W  37.58  11   23  0.478   1    3  ...   13   16   \n",
              "2  Derrick White  BOS  NYK   W  26.63   8   13  0.615   6   10  ...    3    3   \n",
              "3   Jrue Holiday  BOS  NYK   W  30.52   7    9  0.778   4    6  ...    2    4   \n",
              "4  Miles McBride  NYK  BOS   L  25.85   8   10  0.800   4    5  ...    0    0   \n",
              "5  Rui Hachimura  LAL  MIN   W  35.08   7   14  0.500   1    4  ...    2    5   \n",
              "6   Jaylen Brown  BOS  NYK   W  29.90   7   18  0.389   5    9  ...    5    7   \n",
              "7    Rudy Gobert  MIN  LAL   L  35.33   5    8  0.625   0    0  ...   11   14   \n",
              "8  Julius Randle  MIN  LAL   L  34.32   5   10  0.500   1    3  ...    6    9   \n",
              "9     Al Horford  BOS  NYK   W  26.08   4    7  0.571   3    5  ...    3    3   \n",
              "\n",
              "   AST  STL  BLK  TOV  PF  PTS  GmSc        Data  \n",
              "0   10    1    1    1   1   37  38.1  2024-10-22  \n",
              "1    4    1    3    1   1   36  34.0  2024-10-22  \n",
              "2    4    1    0    0   1   24  22.4  2024-10-22  \n",
              "3    4    1    0    0   2   18  19.5  2024-10-22  \n",
              "4    2    0    0    1   1   22  17.8  2024-10-22  \n",
              "5    1    2    1    0   2   18  15.9  2024-10-22  \n",
              "6    1    1    0    1   3   23  15.6  2024-10-22  \n",
              "7    2    0    1    1   4   13  13.9  2024-10-22  \n",
              "8    4    0    0    2   3   16  13.7  2024-10-22  \n",
              "9    5    1    1    0   2   11  13.0  2024-10-22  \n",
              "\n",
              "[10 rows x 25 columns]"
            ],
            "text/html": [
              "\n",
              "  <div id=\"df-ef6587bf-bbe3-460c-9460-74f0734b8e04\" class=\"colab-df-container\">\n",
              "    <div>\n",
              "<style scoped>\n",
              "    .dataframe tbody tr th:only-of-type {\n",
              "        vertical-align: middle;\n",
              "    }\n",
              "\n",
              "    .dataframe tbody tr th {\n",
              "        vertical-align: top;\n",
              "    }\n",
              "\n",
              "    .dataframe thead th {\n",
              "        text-align: right;\n",
              "    }\n",
              "</style>\n",
              "<table border=\"1\" class=\"dataframe\">\n",
              "  <thead>\n",
              "    <tr style=\"text-align: right;\">\n",
              "      <th></th>\n",
              "      <th>Player</th>\n",
              "      <th>Tm</th>\n",
              "      <th>Opp</th>\n",
              "      <th>Res</th>\n",
              "      <th>MP</th>\n",
              "      <th>FG</th>\n",
              "      <th>FGA</th>\n",
              "      <th>FG%</th>\n",
              "      <th>3P</th>\n",
              "      <th>3PA</th>\n",
              "      <th>...</th>\n",
              "      <th>DRB</th>\n",
              "      <th>TRB</th>\n",
              "      <th>AST</th>\n",
              "      <th>STL</th>\n",
              "      <th>BLK</th>\n",
              "      <th>TOV</th>\n",
              "      <th>PF</th>\n",
              "      <th>PTS</th>\n",
              "      <th>GmSc</th>\n",
              "      <th>Data</th>\n",
              "    </tr>\n",
              "  </thead>\n",
              "  <tbody>\n",
              "    <tr>\n",
              "      <th>0</th>\n",
              "      <td>Jayson Tatum</td>\n",
              "      <td>BOS</td>\n",
              "      <td>NYK</td>\n",
              "      <td>W</td>\n",
              "      <td>30.30</td>\n",
              "      <td>14</td>\n",
              "      <td>18</td>\n",
              "      <td>0.778</td>\n",
              "      <td>8</td>\n",
              "      <td>11</td>\n",
              "      <td>...</td>\n",
              "      <td>4</td>\n",
              "      <td>4</td>\n",
              "      <td>10</td>\n",
              "      <td>1</td>\n",
              "      <td>1</td>\n",
              "      <td>1</td>\n",
              "      <td>1</td>\n",
              "      <td>37</td>\n",
              "      <td>38.1</td>\n",
              "      <td>2024-10-22</td>\n",
              "    </tr>\n",
              "    <tr>\n",
              "      <th>1</th>\n",
              "      <td>Anthony Davis</td>\n",
              "      <td>LAL</td>\n",
              "      <td>MIN</td>\n",
              "      <td>W</td>\n",
              "      <td>37.58</td>\n",
              "      <td>11</td>\n",
              "      <td>23</td>\n",
              "      <td>0.478</td>\n",
              "      <td>1</td>\n",
              "      <td>3</td>\n",
              "      <td>...</td>\n",
              "      <td>13</td>\n",
              "      <td>16</td>\n",
              "      <td>4</td>\n",
              "      <td>1</td>\n",
              "      <td>3</td>\n",
              "      <td>1</td>\n",
              "      <td>1</td>\n",
              "      <td>36</td>\n",
              "      <td>34.0</td>\n",
              "      <td>2024-10-22</td>\n",
              "    </tr>\n",
              "    <tr>\n",
              "      <th>2</th>\n",
              "      <td>Derrick White</td>\n",
              "      <td>BOS</td>\n",
              "      <td>NYK</td>\n",
              "      <td>W</td>\n",
              "      <td>26.63</td>\n",
              "      <td>8</td>\n",
              "      <td>13</td>\n",
              "      <td>0.615</td>\n",
              "      <td>6</td>\n",
              "      <td>10</td>\n",
              "      <td>...</td>\n",
              "      <td>3</td>\n",
              "      <td>3</td>\n",
              "      <td>4</td>\n",
              "      <td>1</td>\n",
              "      <td>0</td>\n",
              "      <td>0</td>\n",
              "      <td>1</td>\n",
              "      <td>24</td>\n",
              "      <td>22.4</td>\n",
              "      <td>2024-10-22</td>\n",
              "    </tr>\n",
              "    <tr>\n",
              "      <th>3</th>\n",
              "      <td>Jrue Holiday</td>\n",
              "      <td>BOS</td>\n",
              "      <td>NYK</td>\n",
              "      <td>W</td>\n",
              "      <td>30.52</td>\n",
              "      <td>7</td>\n",
              "      <td>9</td>\n",
              "      <td>0.778</td>\n",
              "      <td>4</td>\n",
              "      <td>6</td>\n",
              "      <td>...</td>\n",
              "      <td>2</td>\n",
              "      <td>4</td>\n",
              "      <td>4</td>\n",
              "      <td>1</td>\n",
              "      <td>0</td>\n",
              "      <td>0</td>\n",
              "      <td>2</td>\n",
              "      <td>18</td>\n",
              "      <td>19.5</td>\n",
              "      <td>2024-10-22</td>\n",
              "    </tr>\n",
              "    <tr>\n",
              "      <th>4</th>\n",
              "      <td>Miles McBride</td>\n",
              "      <td>NYK</td>\n",
              "      <td>BOS</td>\n",
              "      <td>L</td>\n",
              "      <td>25.85</td>\n",
              "      <td>8</td>\n",
              "      <td>10</td>\n",
              "      <td>0.800</td>\n",
              "      <td>4</td>\n",
              "      <td>5</td>\n",
              "      <td>...</td>\n",
              "      <td>0</td>\n",
              "      <td>0</td>\n",
              "      <td>2</td>\n",
              "      <td>0</td>\n",
              "      <td>0</td>\n",
              "      <td>1</td>\n",
              "      <td>1</td>\n",
              "      <td>22</td>\n",
              "      <td>17.8</td>\n",
              "      <td>2024-10-22</td>\n",
              "    </tr>\n",
              "    <tr>\n",
              "      <th>5</th>\n",
              "      <td>Rui Hachimura</td>\n",
              "      <td>LAL</td>\n",
              "      <td>MIN</td>\n",
              "      <td>W</td>\n",
              "      <td>35.08</td>\n",
              "      <td>7</td>\n",
              "      <td>14</td>\n",
              "      <td>0.500</td>\n",
              "      <td>1</td>\n",
              "      <td>4</td>\n",
              "      <td>...</td>\n",
              "      <td>2</td>\n",
              "      <td>5</td>\n",
              "      <td>1</td>\n",
              "      <td>2</td>\n",
              "      <td>1</td>\n",
              "      <td>0</td>\n",
              "      <td>2</td>\n",
              "      <td>18</td>\n",
              "      <td>15.9</td>\n",
              "      <td>2024-10-22</td>\n",
              "    </tr>\n",
              "    <tr>\n",
              "      <th>6</th>\n",
              "      <td>Jaylen Brown</td>\n",
              "      <td>BOS</td>\n",
              "      <td>NYK</td>\n",
              "      <td>W</td>\n",
              "      <td>29.90</td>\n",
              "      <td>7</td>\n",
              "      <td>18</td>\n",
              "      <td>0.389</td>\n",
              "      <td>5</td>\n",
              "      <td>9</td>\n",
              "      <td>...</td>\n",
              "      <td>5</td>\n",
              "      <td>7</td>\n",
              "      <td>1</td>\n",
              "      <td>1</td>\n",
              "      <td>0</td>\n",
              "      <td>1</td>\n",
              "      <td>3</td>\n",
              "      <td>23</td>\n",
              "      <td>15.6</td>\n",
              "      <td>2024-10-22</td>\n",
              "    </tr>\n",
              "    <tr>\n",
              "      <th>7</th>\n",
              "      <td>Rudy Gobert</td>\n",
              "      <td>MIN</td>\n",
              "      <td>LAL</td>\n",
              "      <td>L</td>\n",
              "      <td>35.33</td>\n",
              "      <td>5</td>\n",
              "      <td>8</td>\n",
              "      <td>0.625</td>\n",
              "      <td>0</td>\n",
              "      <td>0</td>\n",
              "      <td>...</td>\n",
              "      <td>11</td>\n",
              "      <td>14</td>\n",
              "      <td>2</td>\n",
              "      <td>0</td>\n",
              "      <td>1</td>\n",
              "      <td>1</td>\n",
              "      <td>4</td>\n",
              "      <td>13</td>\n",
              "      <td>13.9</td>\n",
              "      <td>2024-10-22</td>\n",
              "    </tr>\n",
              "    <tr>\n",
              "      <th>8</th>\n",
              "      <td>Julius Randle</td>\n",
              "      <td>MIN</td>\n",
              "      <td>LAL</td>\n",
              "      <td>L</td>\n",
              "      <td>34.32</td>\n",
              "      <td>5</td>\n",
              "      <td>10</td>\n",
              "      <td>0.500</td>\n",
              "      <td>1</td>\n",
              "      <td>3</td>\n",
              "      <td>...</td>\n",
              "      <td>6</td>\n",
              "      <td>9</td>\n",
              "      <td>4</td>\n",
              "      <td>0</td>\n",
              "      <td>0</td>\n",
              "      <td>2</td>\n",
              "      <td>3</td>\n",
              "      <td>16</td>\n",
              "      <td>13.7</td>\n",
              "      <td>2024-10-22</td>\n",
              "    </tr>\n",
              "    <tr>\n",
              "      <th>9</th>\n",
              "      <td>Al Horford</td>\n",
              "      <td>BOS</td>\n",
              "      <td>NYK</td>\n",
              "      <td>W</td>\n",
              "      <td>26.08</td>\n",
              "      <td>4</td>\n",
              "      <td>7</td>\n",
              "      <td>0.571</td>\n",
              "      <td>3</td>\n",
              "      <td>5</td>\n",
              "      <td>...</td>\n",
              "      <td>3</td>\n",
              "      <td>3</td>\n",
              "      <td>5</td>\n",
              "      <td>1</td>\n",
              "      <td>1</td>\n",
              "      <td>0</td>\n",
              "      <td>2</td>\n",
              "      <td>11</td>\n",
              "      <td>13.0</td>\n",
              "      <td>2024-10-22</td>\n",
              "    </tr>\n",
              "  </tbody>\n",
              "</table>\n",
              "<p>10 rows × 25 columns</p>\n",
              "</div>\n",
              "    <div class=\"colab-df-buttons\">\n",
              "\n",
              "  <div class=\"colab-df-container\">\n",
              "    <button class=\"colab-df-convert\" onclick=\"convertToInteractive('df-ef6587bf-bbe3-460c-9460-74f0734b8e04')\"\n",
              "            title=\"Convert this dataframe to an interactive table.\"\n",
              "            style=\"display:none;\">\n",
              "\n",
              "  <svg xmlns=\"http://www.w3.org/2000/svg\" height=\"24px\" viewBox=\"0 -960 960 960\">\n",
              "    <path d=\"M120-120v-720h720v720H120Zm60-500h600v-160H180v160Zm220 220h160v-160H400v160Zm0 220h160v-160H400v160ZM180-400h160v-160H180v160Zm440 0h160v-160H620v160ZM180-180h160v-160H180v160Zm440 0h160v-160H620v160Z\"/>\n",
              "  </svg>\n",
              "    </button>\n",
              "\n",
              "  <style>\n",
              "    .colab-df-container {\n",
              "      display:flex;\n",
              "      gap: 12px;\n",
              "    }\n",
              "\n",
              "    .colab-df-convert {\n",
              "      background-color: #E8F0FE;\n",
              "      border: none;\n",
              "      border-radius: 50%;\n",
              "      cursor: pointer;\n",
              "      display: none;\n",
              "      fill: #1967D2;\n",
              "      height: 32px;\n",
              "      padding: 0 0 0 0;\n",
              "      width: 32px;\n",
              "    }\n",
              "\n",
              "    .colab-df-convert:hover {\n",
              "      background-color: #E2EBFA;\n",
              "      box-shadow: 0px 1px 2px rgba(60, 64, 67, 0.3), 0px 1px 3px 1px rgba(60, 64, 67, 0.15);\n",
              "      fill: #174EA6;\n",
              "    }\n",
              "\n",
              "    .colab-df-buttons div {\n",
              "      margin-bottom: 4px;\n",
              "    }\n",
              "\n",
              "    [theme=dark] .colab-df-convert {\n",
              "      background-color: #3B4455;\n",
              "      fill: #D2E3FC;\n",
              "    }\n",
              "\n",
              "    [theme=dark] .colab-df-convert:hover {\n",
              "      background-color: #434B5C;\n",
              "      box-shadow: 0px 1px 3px 1px rgba(0, 0, 0, 0.15);\n",
              "      filter: drop-shadow(0px 1px 2px rgba(0, 0, 0, 0.3));\n",
              "      fill: #FFFFFF;\n",
              "    }\n",
              "  </style>\n",
              "\n",
              "    <script>\n",
              "      const buttonEl =\n",
              "        document.querySelector('#df-ef6587bf-bbe3-460c-9460-74f0734b8e04 button.colab-df-convert');\n",
              "      buttonEl.style.display =\n",
              "        google.colab.kernel.accessAllowed ? 'block' : 'none';\n",
              "\n",
              "      async function convertToInteractive(key) {\n",
              "        const element = document.querySelector('#df-ef6587bf-bbe3-460c-9460-74f0734b8e04');\n",
              "        const dataTable =\n",
              "          await google.colab.kernel.invokeFunction('convertToInteractive',\n",
              "                                                    [key], {});\n",
              "        if (!dataTable) return;\n",
              "\n",
              "        const docLinkHtml = 'Like what you see? Visit the ' +\n",
              "          '<a target=\"_blank\" href=https://colab.research.google.com/notebooks/data_table.ipynb>data table notebook</a>'\n",
              "          + ' to learn more about interactive tables.';\n",
              "        element.innerHTML = '';\n",
              "        dataTable['output_type'] = 'display_data';\n",
              "        await google.colab.output.renderOutput(dataTable, element);\n",
              "        const docLink = document.createElement('div');\n",
              "        docLink.innerHTML = docLinkHtml;\n",
              "        element.appendChild(docLink);\n",
              "      }\n",
              "    </script>\n",
              "  </div>\n",
              "\n",
              "\n",
              "    <div id=\"df-ba505abd-999d-4bcb-96a1-1a034fb48449\">\n",
              "      <button class=\"colab-df-quickchart\" onclick=\"quickchart('df-ba505abd-999d-4bcb-96a1-1a034fb48449')\"\n",
              "                title=\"Suggest charts\"\n",
              "                style=\"display:none;\">\n",
              "\n",
              "<svg xmlns=\"http://www.w3.org/2000/svg\" height=\"24px\"viewBox=\"0 0 24 24\"\n",
              "     width=\"24px\">\n",
              "    <g>\n",
              "        <path d=\"M19 3H5c-1.1 0-2 .9-2 2v14c0 1.1.9 2 2 2h14c1.1 0 2-.9 2-2V5c0-1.1-.9-2-2-2zM9 17H7v-7h2v7zm4 0h-2V7h2v10zm4 0h-2v-4h2v4z\"/>\n",
              "    </g>\n",
              "</svg>\n",
              "      </button>\n",
              "\n",
              "<style>\n",
              "  .colab-df-quickchart {\n",
              "      --bg-color: #E8F0FE;\n",
              "      --fill-color: #1967D2;\n",
              "      --hover-bg-color: #E2EBFA;\n",
              "      --hover-fill-color: #174EA6;\n",
              "      --disabled-fill-color: #AAA;\n",
              "      --disabled-bg-color: #DDD;\n",
              "  }\n",
              "\n",
              "  [theme=dark] .colab-df-quickchart {\n",
              "      --bg-color: #3B4455;\n",
              "      --fill-color: #D2E3FC;\n",
              "      --hover-bg-color: #434B5C;\n",
              "      --hover-fill-color: #FFFFFF;\n",
              "      --disabled-bg-color: #3B4455;\n",
              "      --disabled-fill-color: #666;\n",
              "  }\n",
              "\n",
              "  .colab-df-quickchart {\n",
              "    background-color: var(--bg-color);\n",
              "    border: none;\n",
              "    border-radius: 50%;\n",
              "    cursor: pointer;\n",
              "    display: none;\n",
              "    fill: var(--fill-color);\n",
              "    height: 32px;\n",
              "    padding: 0;\n",
              "    width: 32px;\n",
              "  }\n",
              "\n",
              "  .colab-df-quickchart:hover {\n",
              "    background-color: var(--hover-bg-color);\n",
              "    box-shadow: 0 1px 2px rgba(60, 64, 67, 0.3), 0 1px 3px 1px rgba(60, 64, 67, 0.15);\n",
              "    fill: var(--button-hover-fill-color);\n",
              "  }\n",
              "\n",
              "  .colab-df-quickchart-complete:disabled,\n",
              "  .colab-df-quickchart-complete:disabled:hover {\n",
              "    background-color: var(--disabled-bg-color);\n",
              "    fill: var(--disabled-fill-color);\n",
              "    box-shadow: none;\n",
              "  }\n",
              "\n",
              "  .colab-df-spinner {\n",
              "    border: 2px solid var(--fill-color);\n",
              "    border-color: transparent;\n",
              "    border-bottom-color: var(--fill-color);\n",
              "    animation:\n",
              "      spin 1s steps(1) infinite;\n",
              "  }\n",
              "\n",
              "  @keyframes spin {\n",
              "    0% {\n",
              "      border-color: transparent;\n",
              "      border-bottom-color: var(--fill-color);\n",
              "      border-left-color: var(--fill-color);\n",
              "    }\n",
              "    20% {\n",
              "      border-color: transparent;\n",
              "      border-left-color: var(--fill-color);\n",
              "      border-top-color: var(--fill-color);\n",
              "    }\n",
              "    30% {\n",
              "      border-color: transparent;\n",
              "      border-left-color: var(--fill-color);\n",
              "      border-top-color: var(--fill-color);\n",
              "      border-right-color: var(--fill-color);\n",
              "    }\n",
              "    40% {\n",
              "      border-color: transparent;\n",
              "      border-right-color: var(--fill-color);\n",
              "      border-top-color: var(--fill-color);\n",
              "    }\n",
              "    60% {\n",
              "      border-color: transparent;\n",
              "      border-right-color: var(--fill-color);\n",
              "    }\n",
              "    80% {\n",
              "      border-color: transparent;\n",
              "      border-right-color: var(--fill-color);\n",
              "      border-bottom-color: var(--fill-color);\n",
              "    }\n",
              "    90% {\n",
              "      border-color: transparent;\n",
              "      border-bottom-color: var(--fill-color);\n",
              "    }\n",
              "  }\n",
              "</style>\n",
              "\n",
              "      <script>\n",
              "        async function quickchart(key) {\n",
              "          const quickchartButtonEl =\n",
              "            document.querySelector('#' + key + ' button');\n",
              "          quickchartButtonEl.disabled = true;  // To prevent multiple clicks.\n",
              "          quickchartButtonEl.classList.add('colab-df-spinner');\n",
              "          try {\n",
              "            const charts = await google.colab.kernel.invokeFunction(\n",
              "                'suggestCharts', [key], {});\n",
              "          } catch (error) {\n",
              "            console.error('Error during call to suggestCharts:', error);\n",
              "          }\n",
              "          quickchartButtonEl.classList.remove('colab-df-spinner');\n",
              "          quickchartButtonEl.classList.add('colab-df-quickchart-complete');\n",
              "        }\n",
              "        (() => {\n",
              "          let quickchartButtonEl =\n",
              "            document.querySelector('#df-ba505abd-999d-4bcb-96a1-1a034fb48449 button');\n",
              "          quickchartButtonEl.style.display =\n",
              "            google.colab.kernel.accessAllowed ? 'block' : 'none';\n",
              "        })();\n",
              "      </script>\n",
              "    </div>\n",
              "\n",
              "    </div>\n",
              "  </div>\n"
            ],
            "application/vnd.google.colaboratory.intrinsic+json": {
              "type": "dataframe"
            }
          },
          "metadata": {},
          "execution_count": 22
        }
      ],
      "source": [
        "import pandas as pd\n",
        "import numpy as np\n",
        "\n",
        "df = pd.read_csv(\"/content/database_24_25.csv\") #dataframe\n",
        "df.head(10)\n",
        "#Note: these are individual games"
      ]
    },
    {
      "cell_type": "code",
      "source": [
        "df.info()"
      ],
      "metadata": {
        "colab": {
          "base_uri": "https://localhost:8080/"
        },
        "id": "IMjK9AqE16Gl",
        "outputId": "2419b35d-ce87-436f-8f3f-e1f3b126ca35"
      },
      "execution_count": 23,
      "outputs": [
        {
          "output_type": "stream",
          "name": "stdout",
          "text": [
            "<class 'pandas.core.frame.DataFrame'>\n",
            "RangeIndex: 16512 entries, 0 to 16511\n",
            "Data columns (total 25 columns):\n",
            " #   Column  Non-Null Count  Dtype  \n",
            "---  ------  --------------  -----  \n",
            " 0   Player  16512 non-null  object \n",
            " 1   Tm      16512 non-null  object \n",
            " 2   Opp     16512 non-null  object \n",
            " 3   Res     16512 non-null  object \n",
            " 4   MP      16512 non-null  float64\n",
            " 5   FG      16512 non-null  int64  \n",
            " 6   FGA     16512 non-null  int64  \n",
            " 7   FG%     16512 non-null  float64\n",
            " 8   3P      16512 non-null  int64  \n",
            " 9   3PA     16512 non-null  int64  \n",
            " 10  3P%     16512 non-null  float64\n",
            " 11  FT      16512 non-null  int64  \n",
            " 12  FTA     16512 non-null  int64  \n",
            " 13  FT%     16512 non-null  float64\n",
            " 14  ORB     16512 non-null  int64  \n",
            " 15  DRB     16512 non-null  int64  \n",
            " 16  TRB     16512 non-null  int64  \n",
            " 17  AST     16512 non-null  int64  \n",
            " 18  STL     16512 non-null  int64  \n",
            " 19  BLK     16512 non-null  int64  \n",
            " 20  TOV     16512 non-null  int64  \n",
            " 21  PF      16512 non-null  int64  \n",
            " 22  PTS     16512 non-null  int64  \n",
            " 23  GmSc    16512 non-null  float64\n",
            " 24  Data    16512 non-null  object \n",
            "dtypes: float64(5), int64(15), object(5)\n",
            "memory usage: 3.1+ MB\n"
          ]
        }
      ]
    },
    {
      "cell_type": "markdown",
      "source": [
        "**Filter back-to-backs**"
      ],
      "metadata": {
        "id": "nW1m7iyqr1wJ"
      }
    },
    {
      "cell_type": "code",
      "source": [
        "df['Data'] = pd.to_datetime(df['Data'], errors='coerce')\n",
        "\n",
        "# --- Find back-to-backs at the team level ---\n",
        "team_dates = (\n",
        "    df[['Tm', 'Data']]\n",
        "    .drop_duplicates()\n",
        "    .sort_values(by=['Tm', 'Data'])\n",
        ")\n",
        "\n",
        "team_dates['days_since_last'] = team_dates.groupby('Tm')['Data'].diff().dt.days\n",
        "team_dates['is_b2b_second'] = team_dates['days_since_last'] == 1\n",
        "\n",
        "# Extract just the (Tm, Data) combos that are B2B second games\n",
        "b2b_second_dates = team_dates.loc[team_dates['is_b2b_second'], ['Tm', 'Data']]\n",
        "\n",
        "# --- Join back to player-level data ---\n",
        "b2b_second_df = df.merge(b2b_second_dates, on=['Tm', 'Data'], how='inner')\n"
      ],
      "metadata": {
        "id": "8Bgx666e3iCj"
      },
      "execution_count": 24,
      "outputs": []
    },
    {
      "cell_type": "code",
      "source": [
        "# --- Display info ---\n",
        "print(f\"Original shape: {df.shape}\")\n",
        "print(f\"Back-to-back second games shape: {b2b_second_df.shape}\\n\")\n",
        "\n",
        "print(\"--- DataFrame Info ---\")\n",
        "print(b2b_second_df.info())"
      ],
      "metadata": {
        "colab": {
          "base_uri": "https://localhost:8080/"
        },
        "id": "ZaEzdsit2pA_",
        "outputId": "4ea9f050-08a4-4b04-ad9b-cfc93238ff53"
      },
      "execution_count": 25,
      "outputs": [
        {
          "output_type": "stream",
          "name": "stdout",
          "text": [
            "Original shape: (16512, 25)\n",
            "Back-to-back second games shape: (2874, 25)\n",
            "\n",
            "--- DataFrame Info ---\n",
            "<class 'pandas.core.frame.DataFrame'>\n",
            "RangeIndex: 2874 entries, 0 to 2873\n",
            "Data columns (total 25 columns):\n",
            " #   Column  Non-Null Count  Dtype         \n",
            "---  ------  --------------  -----         \n",
            " 0   Player  2874 non-null   object        \n",
            " 1   Tm      2874 non-null   object        \n",
            " 2   Opp     2874 non-null   object        \n",
            " 3   Res     2874 non-null   object        \n",
            " 4   MP      2874 non-null   float64       \n",
            " 5   FG      2874 non-null   int64         \n",
            " 6   FGA     2874 non-null   int64         \n",
            " 7   FG%     2874 non-null   float64       \n",
            " 8   3P      2874 non-null   int64         \n",
            " 9   3PA     2874 non-null   int64         \n",
            " 10  3P%     2874 non-null   float64       \n",
            " 11  FT      2874 non-null   int64         \n",
            " 12  FTA     2874 non-null   int64         \n",
            " 13  FT%     2874 non-null   float64       \n",
            " 14  ORB     2874 non-null   int64         \n",
            " 15  DRB     2874 non-null   int64         \n",
            " 16  TRB     2874 non-null   int64         \n",
            " 17  AST     2874 non-null   int64         \n",
            " 18  STL     2874 non-null   int64         \n",
            " 19  BLK     2874 non-null   int64         \n",
            " 20  TOV     2874 non-null   int64         \n",
            " 21  PF      2874 non-null   int64         \n",
            " 22  PTS     2874 non-null   int64         \n",
            " 23  GmSc    2874 non-null   float64       \n",
            " 24  Data    2874 non-null   datetime64[ns]\n",
            "dtypes: datetime64[ns](1), float64(5), int64(15), object(4)\n",
            "memory usage: 561.5+ KB\n",
            "None\n"
          ]
        }
      ]
    },
    {
      "cell_type": "markdown",
      "source": [
        "**Compute player averages**"
      ],
      "metadata": {
        "id": "gCSAyj9Ir82a"
      }
    },
    {
      "cell_type": "code",
      "source": [
        "# --- Compute per-player averages ---\n",
        "player_stats_b2b = (\n",
        "    b2b_second_df.groupby('Player', as_index=False)\n",
        "    .agg({\n",
        "        'PTS': 'mean',   # Points per game\n",
        "        'AST': 'mean',   # Assists per game\n",
        "        'TRB': 'mean',   # Total rebounds per game\n",
        "        'STL': 'mean',   # Steals per game\n",
        "        'BLK': 'mean',   # Blocks per game\n",
        "        'TOV': 'mean',   # Turnovers per game\n",
        "        'MP': 'mean',    # Minutes per game\n",
        "        # 'GmSc': 'mean'   # Game Score\n",
        "    })\n",
        "    .rename(columns={\n",
        "        'PTS': 'PPG',\n",
        "        'AST': 'APG',\n",
        "        'TRB': 'RPG',\n",
        "        'STL': 'SPG',\n",
        "        'BLK': 'BPG',\n",
        "        'TOV': 'TOPG',\n",
        "        'MP': 'MPG',\n",
        "        # 'GmSc': 'GameScore'\n",
        "    })\n",
        ")\n",
        "\n",
        "# Round for readability\n",
        "player_stats_b2b = player_stats_b2b.round(2)\n",
        "\n",
        "# --- Optional: sort by points or minutes ---\n",
        "player_stats_b2b = player_stats_b2b.sort_values(by='PPG', ascending=False)\n",
        "\n",
        "# --- Display summary ---\n",
        "print(f\"Number of players with B2B second game data: {len(player_stats_b2b)}\")\n",
        "print(player_stats_b2b.head(10))\n",
        "\n",
        "# --- (Optional) save ---\n",
        "# player_stats_b2b.to_csv(\"player_b2b_second_game_averages.csv\", index=False)\n"
      ],
      "metadata": {
        "colab": {
          "base_uri": "https://localhost:8080/"
        },
        "id": "U-Mjw_o848we",
        "outputId": "33da767d-61c9-472f-c99b-57aba436271f"
      },
      "execution_count": 26,
      "outputs": [
        {
          "output_type": "stream",
          "name": "stdout",
          "text": [
            "Number of players with B2B second game data: 526\n",
            "                      Player    PPG    APG    RPG   SPG   BPG  TOPG    MPG\n",
            "170    Giannis Antetokounmpo  34.43   5.00  11.57  0.57  1.00  4.14  35.47\n",
            "388             Nikola Jokić  34.33  10.56  11.56  1.56  0.56  3.00  35.54\n",
            "451  Shai Gilgeous-Alexander  32.12   7.00   5.00  1.88  1.50  2.00  35.94\n",
            "290       Karl-Anthony Towns  31.71   3.57  14.29  1.14  0.71  3.29  37.98\n",
            "338              Luka Dončić  31.33  12.00   7.33  2.00  0.00  2.67  39.59\n",
            "324             Kyrie Irving  31.17   4.50   3.67  0.83  0.17  2.17  39.07\n",
            "29           Anthony Edwards  31.00   5.12   5.62  1.62  0.88  3.25  37.06\n",
            "210            Jalen Brunson  30.57   8.00   2.43  0.86  0.14  1.71  36.22\n",
            "326              LaMelo Ball  29.75   8.00   4.50  2.00  0.00  5.00  34.78\n",
            "227             Jared McCain  29.00   6.50   4.50  1.00  0.00  3.50  38.40\n"
          ]
        }
      ]
    },
    {
      "cell_type": "code",
      "source": [
        "# Make sure 'Data' is parsed as datetime if not already\n",
        "df['Data'] = pd.to_datetime(df['Data'], errors='coerce')\n",
        "\n",
        "# --- Compute per-player averages for all games ---\n",
        "player_stats_all = (\n",
        "    df.groupby('Player', as_index=False)\n",
        "    .agg({\n",
        "        'PTS': 'mean',\n",
        "        'AST': 'mean',\n",
        "        'TRB': 'mean',\n",
        "        'STL': 'mean',\n",
        "        'BLK': 'mean',\n",
        "        'TOV': 'mean',\n",
        "        'MP': 'mean',\n",
        "    })\n",
        "    .rename(columns={\n",
        "        'PTS': 'PPG',\n",
        "        'AST': 'APG',\n",
        "        'TRB': 'RPG',\n",
        "        'STL': 'SPG',\n",
        "        'BLK': 'BPG',\n",
        "        'TOV': 'TOPG',\n",
        "        'MP': 'MPG',\n",
        "    })\n",
        ")\n",
        "\n",
        "# Round for readability\n",
        "player_stats_all = player_stats_all.round(2)\n",
        "\n",
        "# Sort by points for a quick view\n",
        "player_stats_all = player_stats_all.sort_values(by='PPG', ascending=False)\n",
        "\n",
        "# --- Display summary ---\n",
        "print(f\"Number of players in full dataset: {len(player_stats_all)}\")\n",
        "print(player_stats_all.head(10))\n",
        "\n",
        "# --- (Optional) Save ---\n",
        "#player_stats_all.to_csv(\"player_all_game_averages.csv\", index=False)\n"
      ],
      "metadata": {
        "colab": {
          "base_uri": "https://localhost:8080/"
        },
        "id": "5fc0XiS75mdt",
        "outputId": "34250bd4-bbca-46ca-ef23-b1104cb741df"
      },
      "execution_count": 27,
      "outputs": [
        {
          "output_type": "stream",
          "name": "stdout",
          "text": [
            "Number of players in full dataset: 562\n",
            "                      Player    PPG    APG    RPG   SPG   BPG  TOPG    MPG\n",
            "480  Shai Gilgeous-Alexander  32.44   5.90   5.22  1.94  1.00  2.68  34.07\n",
            "183    Giannis Antetokounmpo  31.62   5.98  12.33  0.79  1.36  3.45  34.95\n",
            "414             Nikola Jokić  29.70  10.33  12.70  1.83  0.67  3.09  36.23\n",
            "364              Luka Dončić  28.14   7.82   8.32  2.00  0.41  3.41  35.66\n",
            "351              LaMelo Ball  28.03   7.38   5.22  1.34  0.31  3.69  33.36\n",
            "535             Tyrese Maxey  27.84   6.20   3.43  1.93  0.39  2.48  38.03\n",
            "31           Anthony Edwards  27.22   4.53   5.78  1.14  0.69  3.45  36.73\n",
            "330             Kevin Durant  26.92   4.18   6.08  0.82  1.33  3.03  36.16\n",
            "250        Jaren Jackson Jr.  26.56   2.94   6.39  1.00  1.44  2.33  32.11\n",
            "263             Jayson Tatum  26.55   5.65   8.65  1.22  0.53  2.86  36.32\n"
          ]
        }
      ]
    },
    {
      "cell_type": "markdown",
      "source": [
        "**Compare regular and back to back averages**"
      ],
      "metadata": {
        "id": "4us3RYKRsCz5"
      }
    },
    {
      "cell_type": "code",
      "source": [
        "# Merge both DataFrames\n",
        "comparison = pd.merge(\n",
        "    player_stats_all,\n",
        "    player_stats_b2b,\n",
        "    on='Player',\n",
        "    how='inner',\n",
        "    suffixes=('_All', '_B2B')\n",
        ")\n",
        "\n",
        "# --- Compute diffs only for common stats ---\n",
        "stats = ['PPG', 'APG', 'RPG', 'SPG', 'BPG', 'TOPG', 'MPG', 'GameScore']\n",
        "for stat in stats:\n",
        "    if f'{stat}_All' in comparison.columns and f'{stat}_B2B' in comparison.columns:\n",
        "        comparison[f'{stat}_Diff'] = comparison[f'{stat}_B2B'] - comparison[f'{stat}_All']\n",
        "\n",
        "# Round & sort\n",
        "comparison = comparison.round(2)\n",
        "comparison = comparison.sort_values(by='PPG_Diff')"
      ],
      "metadata": {
        "id": "dtBmmkMt6XOt"
      },
      "execution_count": 28,
      "outputs": []
    },
    {
      "cell_type": "markdown",
      "source": [
        "**Filter out starters & compare their regular and b2b performances**"
      ],
      "metadata": {
        "id": "qEGvX189sJoE"
      }
    },
    {
      "cell_type": "code",
      "source": [
        "starters =  player_stats_all[player_stats_all['MPG'] > 28]\n",
        "\n",
        "starter_comp = pd.merge(\n",
        "    starters,\n",
        "    player_stats_b2b,\n",
        "    on='Player',\n",
        "    how='inner',\n",
        "    suffixes=('_All', '_B2B')\n",
        ")\n",
        "\n",
        "stats = ['PPG', 'APG', 'RPG', 'SPG', 'BPG', 'TOPG', 'MPG', 'GameScore']\n",
        "for stat in stats:\n",
        "    if f'{stat}_All' in starter_comp.columns and f'{stat}_B2B' in starter_comp.columns:\n",
        "        starter_comp[f'{stat}_Diff'] = starter_comp[f'{stat}_B2B'] - starter_comp[f'{stat}_All']\n",
        "\n",
        "starter_comp = starter_comp.round(2)\n"
      ],
      "metadata": {
        "id": "9kEwNTYgARSB"
      },
      "execution_count": 29,
      "outputs": []
    },
    {
      "cell_type": "code",
      "source": [
        "starter_comp = starter_comp.sort_values(by='MPG_Diff')\n",
        "print(starter_comp[['Player', 'MPG_All', 'MPG_B2B', 'MPG_Diff']].head(10))"
      ],
      "metadata": {
        "colab": {
          "base_uri": "https://localhost:8080/"
        },
        "id": "P6J-LMErtRDy",
        "outputId": "ce481737-2cac-4def-fc2f-480e4698a093"
      },
      "execution_count": 30,
      "outputs": [
        {
          "output_type": "stream",
          "name": "stdout",
          "text": [
            "            Player  MPG_All  MPG_B2B  MPG_Diff\n",
            "58   Jalen Johnson    35.67    30.96     -4.71\n",
            "104  Rui Hachimura    32.04    28.16     -3.88\n",
            "126   Caleb Martin    30.42    26.95     -3.47\n",
            "90   Deandre Ayton    30.39    26.99     -3.40\n",
            "25   Norman Powell    33.25    30.34     -2.91\n",
            "18      Cam Thomas    32.32    29.57     -2.75\n",
            "43    Jordan Poole    31.16    28.54     -2.62\n",
            "12   Anthony Davis    34.27    31.70     -2.57\n",
            "79     Paul George    31.97    29.58     -2.39\n",
            "29      Trae Young    36.07    33.69     -2.38\n"
          ]
        }
      ]
    },
    {
      "cell_type": "code",
      "source": [
        "starter_comp = starter_comp.sort_values(by='MPG_Diff', ascending=False)\n",
        "print(starter_comp[['Player', 'MPG_All', 'MPG_B2B', 'MPG_Diff']].head(10))"
      ],
      "metadata": {
        "colab": {
          "base_uri": "https://localhost:8080/"
        },
        "id": "dPD3pXGUDKcW",
        "outputId": "0740a107-47d7-4b8a-f3d4-5407381aced1"
      },
      "execution_count": 31,
      "outputs": [
        {
          "output_type": "stream",
          "name": "stdout",
          "text": [
            "                 Player  MPG_All  MPG_B2B  MPG_Diff\n",
            "84          Jalen Suggs    28.64    34.42      5.78\n",
            "38           RJ Barrett    33.28    37.30      4.02\n",
            "3           Luka Dončić    35.66    39.59      3.93\n",
            "23   Karl-Anthony Towns    34.72    37.98      3.26\n",
            "96      P.J. Washington    32.94    36.17      3.23\n",
            "119     Andrew Nembhard    28.52    31.42      2.90\n",
            "74      Dejounte Murray    32.65    35.54      2.89\n",
            "22         Kyrie Irving    36.18    39.07      2.89\n",
            "100       Amen Thompson    31.44    34.16      2.72\n",
            "14      Cade Cunningham    35.68    38.28      2.60\n"
          ]
        }
      ]
    },
    {
      "cell_type": "code",
      "source": [
        "print(starter_comp['MPG_Diff'].mean())"
      ],
      "metadata": {
        "colab": {
          "base_uri": "https://localhost:8080/"
        },
        "id": "gEEgca2CC0tN",
        "outputId": "c1f9c9ab-7fbd-460a-966f-1dce585d1508"
      },
      "execution_count": 32,
      "outputs": [
        {
          "output_type": "stream",
          "name": "stdout",
          "text": [
            "0.03129770992366419\n"
          ]
        }
      ]
    },
    {
      "cell_type": "code",
      "source": [
        "starter_comp = starter_comp.sort_values(by='PPG_Diff')\n",
        "print(starter_comp[['Player', 'PPG_All', 'PPG_B2B', 'PPG_Diff']].head(10))"
      ],
      "metadata": {
        "colab": {
          "base_uri": "https://localhost:8080/"
        },
        "id": "GqVuECcKtZBU",
        "outputId": "ca83dd84-7374-48d7-f066-35343a71cf69"
      },
      "execution_count": 33,
      "outputs": [
        {
          "output_type": "stream",
          "name": "stdout",
          "text": [
            "                Player  PPG_All  PPG_B2B  PPG_Diff\n",
            "43        Jordan Poole    20.84    12.29     -8.55\n",
            "29          Trae Young    23.25    16.00     -7.25\n",
            "12       Anthony Davis    25.74    19.17     -6.57\n",
            "13     Trey Murphy III    25.62    20.00     -5.62\n",
            "21   Victor Wembanyama    24.42    19.25     -5.17\n",
            "110   Tim Hardaway Jr.    12.16     7.00     -5.16\n",
            "18          Cam Thomas    24.68    20.20     -4.48\n",
            "97           Josh Hart    14.30     9.86     -4.44\n",
            "118    Jaden McDaniels    10.98     6.62     -4.36\n",
            "122      Herbert Jones    10.25     6.00     -4.25\n"
          ]
        }
      ]
    },
    {
      "cell_type": "code",
      "source": [
        "starter_comp = starter_comp.sort_values(by='PPG_Diff', ascending=False)\n",
        "print(starter_comp[['Player', 'PPG_All', 'PPG_B2B', 'PPG_Diff']].head(10))"
      ],
      "metadata": {
        "colab": {
          "base_uri": "https://localhost:8080/"
        },
        "id": "9vm-UT_zD9tj",
        "outputId": "ecd781d0-d877-4a82-8c30-c39b3b720aa2"
      },
      "execution_count": 34,
      "outputs": [
        {
          "output_type": "stream",
          "name": "stdout",
          "text": [
            "                 Player  PPG_All  PPG_B2B  PPG_Diff\n",
            "23   Karl-Anthony Towns    24.33    31.71      7.38\n",
            "22         Kyrie Irving    24.37    31.17      6.80\n",
            "2          Nikola Jokić    29.70    34.33      4.63\n",
            "11        Jalen Brunson    26.08    30.57      4.49\n",
            "119     Andrew Nembhard    10.85    15.00      4.15\n",
            "61       Michael Porter    18.63    22.67      4.04\n",
            "50       Scottie Barnes    19.97    23.83      3.86\n",
            "6       Anthony Edwards    27.22    31.00      3.78\n",
            "48          Trey Murphy    20.21    23.75      3.54\n",
            "130          Josh Green     7.49    11.00      3.51\n"
          ]
        }
      ]
    },
    {
      "cell_type": "code",
      "source": [
        "print(starter_comp['PPG_Diff'].mean())"
      ],
      "metadata": {
        "colab": {
          "base_uri": "https://localhost:8080/"
        },
        "id": "A3zUNhDsC-uH",
        "outputId": "a1580ac6-fc70-470f-bbd4-18f8cf60b62c"
      },
      "execution_count": 35,
      "outputs": [
        {
          "output_type": "stream",
          "name": "stdout",
          "text": [
            "-0.2731297709923665\n"
          ]
        }
      ]
    },
    {
      "cell_type": "markdown",
      "source": [
        "**Group by team**"
      ],
      "metadata": {
        "id": "TTaskb0ZsfI7"
      }
    },
    {
      "cell_type": "code",
      "source": [
        "team_stats = (\n",
        "    df.groupby('Tm', as_index=False)\n",
        "    .agg({\n",
        "        'PTS': 'mean',\n",
        "        'AST': 'mean',\n",
        "        'TRB': 'mean',\n",
        "        'STL': 'mean',\n",
        "        'BLK': 'mean',\n",
        "        'TOV': 'mean',\n",
        "        'MP': 'mean',\n",
        "    })\n",
        "        .rename(columns={\n",
        "        'PTS': 'PPG',\n",
        "        'AST': 'APG',\n",
        "        'TRB': 'RPG',\n",
        "        'STL': 'SPG',\n",
        "        'BLK': 'BPG',\n",
        "        'TOV': 'TOPG',\n",
        "        'MP': 'MPG',\n",
        "    })\n",
        ")\n",
        "\n",
        "team_stats = team_stats.round(2)\n",
        "team_stats = team_stats.sort_values(by=\"MPG\", ascending=False)\n",
        "\n",
        "print(team_stats.head(5))"
      ],
      "metadata": {
        "colab": {
          "base_uri": "https://localhost:8080/"
        },
        "id": "PMFGAZiW4SST",
        "outputId": "e44d943d-e245-4325-95be-1dc51586e205"
      },
      "execution_count": 39,
      "outputs": [
        {
          "output_type": "stream",
          "name": "stdout",
          "text": [
            "     Tm    PPG   APG   RPG   SPG   BPG  TOPG    MPG\n",
            "0   ATL  11.76  2.95  4.58  1.03  0.52  1.54  24.47\n",
            "19  NYK  11.72  2.75  4.30  0.80  0.38  1.19  23.96\n",
            "17  MIN  11.08  2.52  4.36  0.79  0.50  1.44  23.91\n",
            "2   BRK  10.37  2.44  4.01  0.73  0.41  1.37  23.78\n",
            "18  NOP  10.83  2.48  4.22  0.92  0.54  1.33  23.73\n"
          ]
        }
      ]
    },
    {
      "cell_type": "code",
      "source": [
        "team_stats_b2b = (\n",
        "    b2b_second_df.groupby('Tm', as_index=False)\n",
        "    .agg({\n",
        "        'PTS': 'mean',\n",
        "        'AST': 'mean',\n",
        "        'TRB': 'mean',\n",
        "        'STL': 'mean',\n",
        "        'BLK': 'mean',\n",
        "        'TOV': 'mean',\n",
        "        'MP': 'mean',\n",
        "    })\n",
        "        .rename(columns={\n",
        "        'PTS': 'PPG',\n",
        "        'AST': 'APG',\n",
        "        'TRB': 'RPG',\n",
        "        'STL': 'SPG',\n",
        "        'BLK': 'BPG',\n",
        "        'TOV': 'TOPG',\n",
        "        'MP': 'MPG',\n",
        "    })\n",
        ")\n",
        "\n",
        "team_stats_b2b = team_stats_b2b.round(2)\n",
        "team_stats_b2b = team_stats_b2b.sort_values(by=\"MPG\", ascending=False)\n",
        "\n",
        "print(team_stats_b2b.head(5))"
      ],
      "metadata": {
        "colab": {
          "base_uri": "https://localhost:8080/"
        },
        "id": "eJnEig974_J3",
        "outputId": "e1856da4-9e6c-46fa-8c4b-905adf59c358"
      },
      "execution_count": 40,
      "outputs": [
        {
          "output_type": "stream",
          "name": "stdout",
          "text": [
            "     Tm    PPG   APG   RPG   SPG   BPG  TOPG    MPG\n",
            "8   DET  11.75  2.68  4.50  0.69  0.49  1.40  24.83\n",
            "19  NYK  12.43  2.93  4.35  0.74  0.28  1.29  24.71\n",
            "10  HOU  10.83  2.01  4.82  0.88  0.65  1.46  24.25\n",
            "2   BRK  10.18  2.30  4.18  0.77  0.26  1.43  24.24\n",
            "18  NOP  10.73  2.48  4.31  1.01  0.58  1.35  24.23\n"
          ]
        }
      ]
    },
    {
      "cell_type": "markdown",
      "source": [
        "**Compare Teams in regular games and b2bs**"
      ],
      "metadata": {
        "id": "0KyiKcTMskHs"
      }
    },
    {
      "cell_type": "code",
      "source": [
        "tm_comp = pd.merge(\n",
        "    team_stats,\n",
        "    team_stats_b2b,\n",
        "    on=\"Tm\",\n",
        "    how=\"inner\",\n",
        "    suffixes=('_All', '_B2B')\n",
        ")\n",
        "\n",
        "tm_comp['MPG_Diff'] = tm_comp['MPG_All'] - tm_comp['MPG_B2B']\n",
        "\n",
        "tm_comp.sort_values(by='MPG_Diff')\n",
        "\n",
        "print(tm_comp.head(5))"
      ],
      "metadata": {
        "colab": {
          "base_uri": "https://localhost:8080/"
        },
        "id": "BXymQzY25qKY",
        "outputId": "3dd97e6a-2887-486c-fe90-98015d06a448"
      },
      "execution_count": 41,
      "outputs": [
        {
          "output_type": "stream",
          "name": "stdout",
          "text": [
            "    Tm  PPG_All  APG_All  RPG_All  SPG_All  BPG_All  TOPG_All  MPG_All  \\\n",
            "0  ATL    11.76     2.95     4.58     1.03     0.52      1.54    24.47   \n",
            "1  NYK    11.72     2.75     4.30     0.80     0.38      1.19    23.96   \n",
            "2  MIN    11.08     2.52     4.36     0.79     0.50      1.44    23.91   \n",
            "3  BRK    10.37     2.44     4.01     0.73     0.41      1.37    23.78   \n",
            "4  NOP    10.83     2.48     4.22     0.92     0.54      1.33    23.73   \n",
            "\n",
            "   PPG_B2B  APG_B2B  RPG_B2B  SPG_B2B  BPG_B2B  TOPG_B2B  MPG_B2B  MPG_Diff  \n",
            "0    11.07     2.84     4.17     1.10     0.53      1.57    24.00      0.47  \n",
            "1    12.43     2.93     4.35     0.74     0.28      1.29    24.71     -0.75  \n",
            "2    10.93     2.48     4.00     0.74     0.57      1.25    22.86      1.05  \n",
            "3    10.18     2.30     4.18     0.77     0.26      1.43    24.24     -0.46  \n",
            "4    10.73     2.48     4.31     1.01     0.58      1.35    24.23     -0.50  \n"
          ]
        }
      ]
    },
    {
      "cell_type": "code",
      "source": [
        "import matplotlib.pyplot as plt"
      ],
      "metadata": {
        "id": "XXjeUsnH84EU"
      },
      "execution_count": 42,
      "outputs": []
    },
    {
      "cell_type": "code",
      "source": [
        "for _, row in tm_comp[(tm_comp['MPG_All'] > 24) | (tm_comp['MPG_B2B'] > 24.5) | ((tm_comp['MPG_All'] < 23) & (tm_comp['MPG_B2B'] > 23))].iterrows():\n",
        "    plt.text(\n",
        "        row['MPG_All']-0.075,\n",
        "        row['MPG_B2B'] - 0.3,\n",
        "        row['Tm'],\n",
        "        fontsize=9,\n",
        "        color='black'\n",
        "    )\n",
        "\n",
        "\n",
        "plt.scatter(tm_comp['MPG_All'], tm_comp['MPG_B2B'])\n",
        "plt.xlabel('Minutes per Game (all games)')\n",
        "plt.ylabel('Minutes per Game (back to backs)')\n",
        "\n",
        "plt.show()"
      ],
      "metadata": {
        "colab": {
          "base_uri": "https://localhost:8080/",
          "height": 449
        },
        "id": "aMlolgi58Kyk",
        "outputId": "4a9b8821-f795-461a-9b88-d33ed07760ef"
      },
      "execution_count": 43,
      "outputs": [
        {
          "output_type": "display_data",
          "data": {
            "text/plain": [
              "<Figure size 640x480 with 1 Axes>"
            ],
            "image/png": "[encoded data removed]"
          },
          "metadata": {}
        }
      ]
    },
    {
      "cell_type": "code",
      "source": [],
      "metadata": {
        "id": "bw8P4jSZ9_I_"
      },
      "execution_count": 43,
      "outputs": []
    }
  ]
}